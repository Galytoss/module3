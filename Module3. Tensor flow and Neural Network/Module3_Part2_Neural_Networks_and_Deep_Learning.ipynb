{
 "cells": [
  {
   "cell_type": "markdown",
   "id": "f0389561",
   "metadata": {},
   "source": [
    "# Module 3. Neural Networks and Deep Learning\n",
    "### Part 2. Basics of Neural Networks\n",
    "<br><br>\n",
    "2021. 10. 21.\n",
    "<br><br>\n",
    "Youngmin Oh, Ph.D.  \n",
    "School of Computing  \n",
    "Gachon University  \n",
    "<br>\n",
    "\n",
    "https://sites.google.com/view/youngminoh\n"
   ]
  },
  {
   "cell_type": "markdown",
   "id": "06632ab5",
   "metadata": {},
   "source": [
    "### Objective\n",
    "<b>Learning fundamentals of neural networks and deep learning from first principles with coding</b>"
   ]
  },
  {
   "cell_type": "markdown",
   "id": "ff754740",
   "metadata": {},
   "source": [
    "### References\n",
    "**1. Books**   \n",
    "[Deep Learning Book by Goodfellow et al.](https://www.deeplearningbook.org)  \n",
    "[Neural Networks and Deep Learning Online Book by Michael Nielsen](http://neuralnetworksanddeeplearning.com/index.html)  \n",
    "[Hands-on Machine Learning with Scikit-Learn, Keras, and Tensorflow by Aurélien Geron](https://github.com/ageron/handson-ml2)  \n",
    "<br><br>\n",
    "**2. Official Tutorials**  \n",
    "[Numpy Official Tutorials](https://numpy.org/doc/stable/user/quickstart.html)  \n",
    "[Tensorflow Official Tutorials](https://www.tensorflow.org/learn)   \n",
    "[Keras Official Site](https://keras.io)  \n",
    "[PyTorch Official Tutorials](https://pytorch.org/tutorials/)  \n",
    "<br><br>\n",
    "**3. Online Tutorials**  \n",
    "[Machine Learning by Andrew Ng](https://www.coursera.org/learn/machine-learning)  \n",
    "[Neural Networks and Deep Learning by Andrew Ng](https://www.coursera.org/learn/neural-networks-deep-learning?specialization=deep-learning#instructors)  \n",
    "[Practical Deep Learning for Coders by fast.ai](https://course.fast.ai)  "
   ]
  },
  {
   "cell_type": "markdown",
   "id": "e1249ecd",
   "metadata": {},
   "source": [
    "### Dependencies\n",
    "* python3\n",
    "* numpy\n",
    "* tensorflow2"
   ]
  },
  {
   "cell_type": "markdown",
   "id": "fa8ab6cc",
   "metadata": {},
   "source": [
    "# Ch1-1. Introduction"
   ]
  },
  {
   "cell_type": "markdown",
   "id": "3d08f9e7",
   "metadata": {},
   "source": [
    "<img align=\"left\" src=\"./slide001.png\"></img>"
   ]
  },
  {
   "cell_type": "markdown",
   "id": "718a51ec",
   "metadata": {},
   "source": [
    "<img align=\"left\" src=\"./slide002.png\"></img>"
   ]
  },
  {
   "cell_type": "markdown",
   "id": "0076ed0c",
   "metadata": {},
   "source": [
    "<img align=\"left\" src=\"./slide003.png\"></img>"
   ]
  },
  {
   "cell_type": "markdown",
   "id": "a5ad880f",
   "metadata": {},
   "source": [
    "<img align=\"left\" src=\"./slide004.png\"></img>"
   ]
  },
  {
   "cell_type": "markdown",
   "id": "7278d09a",
   "metadata": {},
   "source": [
    "<img align=\"left\" src=\"./slide005.png\"></img>"
   ]
  },
  {
   "cell_type": "markdown",
   "id": "dc108da7",
   "metadata": {},
   "source": [
    "<img align=\"left\" src=\"./slide006.png\"></img>"
   ]
  },
  {
   "cell_type": "markdown",
   "id": "3ad7542a",
   "metadata": {},
   "source": [
    "<img align=\"left\" src=\"./slide007.png\"></img>"
   ]
  },
  {
   "cell_type": "markdown",
   "id": "0ae5b31a",
   "metadata": {},
   "source": [
    "<img align=\"left\" src=\"./slide008.png\"></img>"
   ]
  },
  {
   "cell_type": "markdown",
   "id": "fa2ff6d8",
   "metadata": {},
   "source": [
    "<img align=\"left\" src=\"./slide009.png\"></img>"
   ]
  },
  {
   "cell_type": "markdown",
   "id": "b1c16f97",
   "metadata": {},
   "source": [
    "### Deep Learning\n",
    "* One and the most prominent approach to Artificial Intelligence (AI) as of 2021\n",
    "* Not the only way\n",
    "* Train deep neural networks for perception, reasoning, and making actions\n",
    "* High-dimensional\n",
    "* Deep layers, many parameters, tunable hyperparameters\n",
    "* A kind of *representation learning*: Input -> (Encoding) -> Representation -> (Decoding) -> Output"
   ]
  },
  {
   "cell_type": "markdown",
   "id": "0de8a11c",
   "metadata": {},
   "source": [
    "### Representation matters\n",
    "<TABLE BORDER=\"0\">\n",
    "<TR style=\"background-color:#FFFFFF\">\n",
    "<TD><img src=\"./RepresentationMatters.png\" alt=\"drawing\" width=\"400\"/></img></TD>\n",
    "</TR>\n",
    "<TR style=\"background-color:#FFFFFF\">\n",
    "<TD>https://www.deeplearningbook.org/contents/intro.html</TD>\n",
    "</TR>\n",
    "</TABLE>\n",
    "\n"
   ]
  },
  {
   "cell_type": "markdown",
   "id": "373a27ce",
   "metadata": {},
   "source": [
    "### Hierarchical Representation\n",
    "<TABLE BORDER=\"0\">\n",
    "<TR style=\"background-color:#FFFFFF\">\n",
    "<TD><img src=\"./HierarchicalRepresentation.png\" alt=\"drawing\" width=\"500\"/></img></TD>\n",
    "</TR>\n",
    "<TR style=\"background-color:#FFFFFF\">\n",
    "<TD>https://www.deeplearningbook.org/contents/intro.html</TD>\n",
    "</TR>\n",
    "</TABLE>"
   ]
  },
  {
   "cell_type": "markdown",
   "id": "c91ed2cc",
   "metadata": {},
   "source": [
    "### Flowcharts of Different AI Systems\n",
    "<TABLE BORDER=\"0\">\n",
    "<TR style=\"background-color:#FFFFFF\">\n",
    "<TD><img src=\"./AI_FlowChart.png\" alt=\"drawing\" width=\"500\"/></img></TD>\n",
    "</TR>\n",
    "<TR style=\"background-color:#FFFFFF\">\n",
    "<TD>https://www.deeplearningbook.org/contents/intro.html</TD>\n",
    "</TR>\n",
    "</TABLE>"
   ]
  },
  {
   "cell_type": "markdown",
   "id": "18b2a201",
   "metadata": {},
   "source": [
    "### MNIST Dataset: Classifying handwritten digits\n",
    "http://yann.lecun.com/exdb/mnist/\n",
    "<TABLE BORDER=\"0\">\n",
    "<TR style=\"background-color:#FFFFFF\">\n",
    "<TD><img src=\"./MNIST.png\" alt=\"drawing\" width=\"500\"/></img></TD>\n",
    "</TR>\n",
    "<TR style=\"background-color:#FFFFFF\">\n",
    "<TD>https://www.deeplearningbook.org/contents/intro.html</TD>\n",
    "</TR>\n",
    "</TABLE>"
   ]
  },
  {
   "cell_type": "markdown",
   "id": "a2b3449a",
   "metadata": {},
   "source": [
    "# Ch1-2. Neural Network"
   ]
  },
  {
   "cell_type": "markdown",
   "id": "76d010af",
   "metadata": {},
   "source": [
    "### Biological Neuron vs. Artificial Neuron\n",
    "<img src=\"./neuron_and_neuron.png\"></img>"
   ]
  },
  {
   "cell_type": "markdown",
   "id": "4cbf36f0",
   "metadata": {},
   "source": [
    "### Perceptron\n",
    "<TABLE BORDER=\"0\">\n",
    "<TR style=\"background-color:#FFFFFF\">\n",
    "<TD><img src=\"./Perceptron_Unit.png\" width=\"400\" alt=\"drawing\"/></img></TD>\n",
    "<TD><img src=\"./Mark_I_perceptron.jpg\" alt=\"drawing\"/></img></TD>\n",
    "</TR>\n",
    "<TR style=\"background-color:#FFFFFF\">\n",
    "<TD></TD>\n",
    "<TD>https://en.wikipedia.org/wiki/Perceptron</TD>\n",
    "</TR>\n",
    "<TR style=\"background-color:#FFFFFF\">\n",
    "<TD><img align=\"left\" src=\"./equation001.png\" width=\"300\" alt=\"drawing\"/></img></TD>\n",
    "<TR style=\"background-color:#FFFFFF\">\n",
    "<TD><img align =\"left\" src=\"./equation002.png\" width=\"250\" alt=\"drawing\"/></img></TD>\n",
    "<TR style=\"background-color:#FFFFFF\">\n",
    "<TD>http://neuralnetworksanddeeplearning.com/chap1.html</TD></TR>\n",
    "</TR>\n",
    "</TABLE>"
   ]
  },
  {
   "cell_type": "code",
   "execution_count": null,
   "id": "29360b3c",
   "metadata": {},
   "outputs": [],
   "source": [
    "import numpy as np\n",
    "import matplotlib.pyplot as plt"
   ]
  },
  {
   "cell_type": "code",
   "execution_count": null,
   "id": "943f7f72",
   "metadata": {},
   "outputs": [],
   "source": [
    "def linear(z):\n",
    "    return z"
   ]
  },
  {
   "cell_type": "code",
   "execution_count": null,
   "id": "56609a6e",
   "metadata": {},
   "outputs": [],
   "source": [
    "def step(z):\n",
    "    y = (z >= 0).astype(int) # input must be a numpy array\n",
    "    return y"
   ]
  },
  {
   "cell_type": "markdown",
   "id": "9c12727f",
   "metadata": {},
   "source": [
    "<img align=\"left\" src=\"./equation003.png\" width=\"150\"></img>"
   ]
  },
  {
   "cell_type": "code",
   "execution_count": null,
   "id": "ef329c9a",
   "metadata": {},
   "outputs": [],
   "source": [
    "def sigmoid(z):\n",
    "    y = 1 / (1 + np.exp(-z))\n",
    "    return y"
   ]
  },
  {
   "cell_type": "code",
   "execution_count": null,
   "id": "0233b0aa",
   "metadata": {},
   "outputs": [],
   "source": [
    "def plot_activation(x, activation):\n",
    "    y = activation(x)\n",
    "    plt.figure()\n",
    "    plt.plot(x, y)\n",
    "    plt.grid(linestyle='--')\n",
    "    plt.show()"
   ]
  },
  {
   "cell_type": "code",
   "execution_count": null,
   "id": "29d5c9d5",
   "metadata": {},
   "outputs": [],
   "source": [
    "x = np.linspace(-7, 7, 1000)\n",
    "plot_activation(x, linear)"
   ]
  },
  {
   "cell_type": "code",
   "execution_count": null,
   "id": "aa4f0495",
   "metadata": {
    "scrolled": false
   },
   "outputs": [],
   "source": [
    "plot_activation(x, step)"
   ]
  },
  {
   "cell_type": "code",
   "execution_count": null,
   "id": "da3bc119",
   "metadata": {},
   "outputs": [],
   "source": [
    "plot_activation(x, sigmoid)"
   ]
  },
  {
   "cell_type": "code",
   "execution_count": null,
   "id": "ab762b1c",
   "metadata": {},
   "outputs": [],
   "source": [
    "# A single neuron\n",
    "class Neuron:\n",
    "    def __init__(self, n_inputs, activation):\n",
    "        self.w = np.zeros(n_inputs) # weight initialization\n",
    "        self.b = 0.0 # bias initialization\n",
    "        self.activation = activation\n",
    "        \n",
    "    def output(self, x): # (convention) x is an input vector of dimension n\n",
    "        z = np.dot(x, self.w) + self.b # (convention) z is a weighted sum + bias\n",
    "        y = self.activation(z) # (convention) y is an output of neuron\n",
    "        return y"
   ]
  },
  {
   "cell_type": "markdown",
   "id": "76d63b59",
   "metadata": {},
   "source": [
    "### Logic Gate: AND\n",
    "<TABLE BORDER=\"0\">\n",
    "<TR style=\"background-color:#FFFFFF\">\n",
    "<TD><img src=\"./Gate_AND.png\" width=\"150\" alt=\"drawing\"/></img></TD>\n",
    "<TD><img src=\"./Table_AND.png\" width =\"140\" alt=\"drawing\"/></img></TD>\n",
    "</TR>\n",
    "</TABLE>"
   ]
  },
  {
   "cell_type": "code",
   "execution_count": null,
   "id": "930099f5",
   "metadata": {},
   "outputs": [],
   "source": [
    "neuronAND = Neuron(2, step)\n",
    "print(\"weight =\", neuronAND.w)\n",
    "print(\"bias =\", neuronAND.b)\n",
    "# print(\"output from input 0.7 =\", neuron.output(0.7))"
   ]
  },
  {
   "cell_type": "code",
   "execution_count": null,
   "id": "e1c890c8",
   "metadata": {},
   "outputs": [],
   "source": [
    "binary_inputs = np.array([[0, 0], [0, 1], [1, 0], [1, 1]])\n",
    "binary_outputs = neuronAND.output(binary_inputs)\n",
    "print(\"inputs:\\n\", binary_inputs)\n",
    "print()\n",
    "print(\"outouts:\\n\", binary_outputs)"
   ]
  },
  {
   "cell_type": "code",
   "execution_count": null,
   "id": "d3afa834",
   "metadata": {},
   "outputs": [],
   "source": [
    "neuronAND.w = np.array([1.0, 1.0])\n",
    "neuronAND.b = -1.5\n",
    "binary_outputs = neuronAND.output(binary_inputs)\n",
    "print(binary_outputs)"
   ]
  },
  {
   "cell_type": "markdown",
   "id": "1ab0e94a",
   "metadata": {},
   "source": [
    "**Exercise: Try OR, NAND, NOR, XOR(?!) with a single neuron**"
   ]
  },
  {
   "cell_type": "markdown",
   "id": "698a039e",
   "metadata": {},
   "source": [
    "### Simple Linear Regression"
   ]
  },
  {
   "cell_type": "code",
   "execution_count": null,
   "id": "8bc7e021",
   "metadata": {},
   "outputs": [],
   "source": [
    "neuron = Neuron(1, linear)\n",
    "print(\"weight =\", neuron.w)\n",
    "print(\"bias =\", neuron.b)\n",
    "print(\"output from input 0.7 =\", neuron.output(0.7))"
   ]
  },
  {
   "cell_type": "code",
   "execution_count": null,
   "id": "7c81ebad",
   "metadata": {
    "scrolled": false
   },
   "outputs": [],
   "source": [
    "TRUE_SLOPE = 0.375\n",
    "TRUE_INTERCEPT = -1.253\n",
    "N_DATA = 500\n",
    "data_x = np.linspace(-5, 5, N_DATA).reshape(N_DATA, 1)\n",
    "true_y = (TRUE_SLOPE * data_x + TRUE_INTERCEPT).reshape(-1) # ideal output without noise\n",
    "data_y = true_y + np.random.randn(N_DATA)\n",
    "pred_y = neuron.output(data_x)\n",
    "\n",
    "print(data_x.shape)\n",
    "print(true_y.shape)\n",
    "print(data_y.shape)\n",
    "print(pred_y.shape)"
   ]
  },
  {
   "cell_type": "code",
   "execution_count": null,
   "id": "cf252152",
   "metadata": {},
   "outputs": [],
   "source": [
    "fs = 14 # font size\n",
    "plt.figure()\n",
    "plt.plot(data_x, data_y, 'k.', alpha=.3)\n",
    "plt.plot(data_x, true_y, 'k', label='True')\n",
    "plt.plot(data_x, pred_y, 'r--', label='Prediction')\n",
    "plt.legend()\n",
    "plt.axis('scaled')\n",
    "plt.xlim([-5, 5])\n",
    "plt.ylim([-6, 4])\n",
    "plt.xlabel('x', fontsize=fs)\n",
    "plt.ylabel('y', fontsize=fs)\n",
    "plt.show()"
   ]
  },
  {
   "cell_type": "markdown",
   "id": "1667b5fa",
   "metadata": {},
   "source": [
    "**But, how to find weights and bias for the best fit?**  \n",
    "**Among possible methods, we choose to learn from data!**"
   ]
  },
  {
   "cell_type": "markdown",
   "id": "f145f50b",
   "metadata": {},
   "source": [
    "### Simple Linear Regression with Perceptron\n",
    "* Best fit = Minimum error (cost) between prediction and data\n",
    "* We use the quadratic cost: Mean Squared Error (MSE)  \n",
    "<img align=\"left\" src=\"./equation005.png\" width=250></img>"
   ]
  },
  {
   "cell_type": "code",
   "execution_count": null,
   "id": "2e780233",
   "metadata": {},
   "outputs": [],
   "source": [
    "def mse(y_pred, y_data):\n",
    "    cost = (0.5 / len(y_pred)) * np.sum((y_pred - y_data)**2)\n",
    "    return cost"
   ]
  },
  {
   "cell_type": "code",
   "execution_count": null,
   "id": "7921646e",
   "metadata": {},
   "outputs": [],
   "source": [
    "mse(pred_y, data_y)"
   ]
  },
  {
   "cell_type": "code",
   "execution_count": null,
   "id": "0eb1b8f3",
   "metadata": {},
   "outputs": [],
   "source": [
    "mse(true_y, data_y)"
   ]
  },
  {
   "cell_type": "markdown",
   "id": "63831191",
   "metadata": {},
   "source": [
    "### Gradient Descent"
   ]
  },
  {
   "cell_type": "markdown",
   "id": "ba6f4f28",
   "metadata": {},
   "source": [
    "If output is *differentiable*, <br>\n",
    "<img align=\"left\" src=\"./equation004.png\" width=300></img>"
   ]
  },
  {
   "cell_type": "markdown",
   "id": "0330db59",
   "metadata": {},
   "source": [
    "<img align=\"left\" src=\"./gradient_descent.png\" width=400></img>"
   ]
  },
  {
   "cell_type": "markdown",
   "id": "a843af29",
   "metadata": {},
   "source": [
    "<img align=\"left\" src=\"./note001.jpg\" width=500></img>"
   ]
  },
  {
   "cell_type": "code",
   "execution_count": null,
   "id": "0f327262",
   "metadata": {},
   "outputs": [],
   "source": [
    "data_x.reshape(-1).shape"
   ]
  },
  {
   "cell_type": "code",
   "execution_count": null,
   "id": "0d304b4e",
   "metadata": {},
   "outputs": [],
   "source": [
    "neuron = Neuron(1, linear)\n",
    "log_w = [neuron.w[0]]\n",
    "log_b = [neuron.b]\n",
    "pred_y = neuron.output(data_x)\n",
    "log_cost = [mse(pred_y, data_y)]\n",
    "\n",
    "beta = 0.01 # learning rate\n",
    "for k in range(1000):\n",
    "    pred_y = neuron.output(data_x)\n",
    "    \n",
    "    neuron.w += -beta * np.mean((pred_y - data_y) * data_x.reshape(-1))\n",
    "    neuron.b += -beta * np.mean(pred_y - data_y)\n",
    "    \n",
    "    log_w.append(neuron.w[0])\n",
    "    log_b.append(neuron.b)\n",
    "    log_cost.append(mse(pred_y, data_y))\n",
    "\n",
    "pred_y = neuron.output(data_x)\n",
    "print(\"weight =\", neuron.w)\n",
    "print(\"bias =\", neuron.b)\n",
    "print(\"cost =\", mse(pred_y, data_y))"
   ]
  },
  {
   "cell_type": "code",
   "execution_count": null,
   "id": "aeda9a79",
   "metadata": {},
   "outputs": [],
   "source": [
    "plt.figure()\n",
    "plt.plot(log_cost)\n",
    "plt.xlabel('iteration')\n",
    "plt.ylabel('cost')\n",
    "plt.show()"
   ]
  },
  {
   "cell_type": "code",
   "execution_count": null,
   "id": "fc6dbecb",
   "metadata": {},
   "outputs": [],
   "source": [
    "plt.figure()\n",
    "plt.plot(log_w)\n",
    "plt.plot([0, 1000], [TRUE_SLOPE, TRUE_SLOPE], '--')\n",
    "plt.xlabel('iteration')\n",
    "plt.ylabel('weight')\n",
    "plt.show()"
   ]
  },
  {
   "cell_type": "code",
   "execution_count": null,
   "id": "271756cf",
   "metadata": {
    "scrolled": true
   },
   "outputs": [],
   "source": [
    "plt.figure()\n",
    "plt.plot(log_b)\n",
    "plt.plot([0, 1000], [TRUE_INTERCEPT, TRUE_INTERCEPT], '--')\n",
    "plt.xlabel('iteration')\n",
    "plt.ylabel('bias')\n",
    "plt.show()"
   ]
  },
  {
   "cell_type": "code",
   "execution_count": null,
   "id": "3f0090cb",
   "metadata": {},
   "outputs": [],
   "source": [
    "fs = 14 # font size\n",
    "plt.figure()\n",
    "plt.plot(data_x, data_y, 'k.', alpha=.3)\n",
    "plt.plot(data_x, true_y, 'k', label='True')\n",
    "plt.plot(data_x, pred_y, 'r--', label='Prediction')\n",
    "plt.legend()\n",
    "plt.axis('scaled')\n",
    "plt.xlim([-5, 5])\n",
    "plt.ylim([-6, 4])\n",
    "plt.xlabel('x', fontsize=fs)\n",
    "plt.ylabel('y', fontsize=fs)\n",
    "plt.show()"
   ]
  },
  {
   "cell_type": "markdown",
   "id": "9ef29e95",
   "metadata": {},
   "source": [
    "### Next: Multi-Layer Feedforward Neural Network with Continuous Output\n",
    "<TABLE BORDER=\"0\">\n",
    "<TR style=\"background-color:#FFFFFF\">\n",
    "<TD><img src=\"./MLP.png\" alt=\"drawing\" width=\"500\"/></img></TD>\n",
    "</TR>\n",
    "<TR style=\"background-color:#FFFFFF\">\n",
    "<TD><img src=\"./FeedForwardContinuous.png\" alt=\"drawing\" width=\"450\"/></img></TD>\n",
    "</TR>\n",
    "<TR style=\"background-color:#FFFFFF\">\n",
    "<TD>https://www.deeplearningbook.org/contents/intro.html</TD>\n",
    "</TR>\n",
    "</TABLE>"
   ]
  }
 ],
 "metadata": {
  "kernelspec": {
   "display_name": "Python 3",
   "language": "python",
   "name": "python3"
  },
  "language_info": {
   "codemirror_mode": {
    "name": "ipython",
    "version": 3
   },
   "file_extension": ".py",
   "mimetype": "text/x-python",
   "name": "python",
   "nbconvert_exporter": "python",
   "pygments_lexer": "ipython3",
   "version": "3.8.8"
  }
 },
 "nbformat": 4,
 "nbformat_minor": 5
}
